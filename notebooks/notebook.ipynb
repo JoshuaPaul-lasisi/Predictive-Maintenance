{
 "cells": [
  {
   "cell_type": "code",
   "execution_count": null,
   "metadata": {},
   "outputs": [],
   "source": [
    "pip install ucimlrepo"
   ]
  },
  {
   "cell_type": "code",
   "execution_count": null,
   "metadata": {},
   "outputs": [],
   "source": [
    "from ucimlrepo import fetch_ucirepo \n",
    "\n",
    "# Fetch the dataset\n",
    "condition_monitoring = fetch_ucirepo(id=447)\n",
    "\n",
    "# Access features (sensor data) and targets (condition labels)\n",
    "X = condition_monitoring.data.features  # Sensor data\n",
    "y = condition_monitoring.data.targets   # Target labels\n",
    "\n",
    "# Metadata and variable information\n",
    "print(condition_monitoring.metadata)\n",
    "print(condition_monitoring.variables)\n"
   ]
  }
 ],
 "metadata": {
  "kernelspec": {
   "display_name": "Python 3",
   "language": "python",
   "name": "python3"
  },
  "language_info": {
   "name": "python",
   "version": "3.12.1"
  }
 },
 "nbformat": 4,
 "nbformat_minor": 2
}
